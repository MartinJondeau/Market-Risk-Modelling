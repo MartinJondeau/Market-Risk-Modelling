{
 "cells": [
  {
   "cell_type": "code",
   "execution_count": 15,
   "id": "056ac78a",
   "metadata": {},
   "outputs": [],
   "source": [
    "import pandas as pd\n",
    "import numpy as np\n",
    "from scipy.stats import norm, gaussian_kde\n"
   ]
  },
  {
   "cell_type": "code",
   "execution_count": 16,
   "id": "a519b482",
   "metadata": {},
   "outputs": [
    {
     "data": {
      "text/html": [
       "<div>\n",
       "<style scoped>\n",
       "    .dataframe tbody tr th:only-of-type {\n",
       "        vertical-align: middle;\n",
       "    }\n",
       "\n",
       "    .dataframe tbody tr th {\n",
       "        vertical-align: top;\n",
       "    }\n",
       "\n",
       "    .dataframe thead th {\n",
       "        text-align: right;\n",
       "    }\n",
       "</style>\n",
       "<table border=\"1\" class=\"dataframe\">\n",
       "  <thead>\n",
       "    <tr style=\"text-align: right;\">\n",
       "      <th></th>\n",
       "      <th>Date</th>\n",
       "      <th>Price</th>\n",
       "    </tr>\n",
       "  </thead>\n",
       "  <tbody>\n",
       "    <tr>\n",
       "      <th>0</th>\n",
       "      <td>02/01/2015</td>\n",
       "      <td>5,621</td>\n",
       "    </tr>\n",
       "    <tr>\n",
       "      <th>1</th>\n",
       "      <td>05/01/2015</td>\n",
       "      <td>5,424</td>\n",
       "    </tr>\n",
       "    <tr>\n",
       "      <th>2</th>\n",
       "      <td>06/01/2015</td>\n",
       "      <td>5,329</td>\n",
       "    </tr>\n",
       "    <tr>\n",
       "      <th>3</th>\n",
       "      <td>07/01/2015</td>\n",
       "      <td>5,224</td>\n",
       "    </tr>\n",
       "    <tr>\n",
       "      <th>4</th>\n",
       "      <td>08/01/2015</td>\n",
       "      <td>5,453</td>\n",
       "    </tr>\n",
       "  </tbody>\n",
       "</table>\n",
       "</div>"
      ],
      "text/plain": [
       "         Date  Price\n",
       "0  02/01/2015  5,621\n",
       "1  05/01/2015  5,424\n",
       "2  06/01/2015  5,329\n",
       "3  07/01/2015  5,224\n",
       "4  08/01/2015  5,453"
      ]
     },
     "execution_count": 16,
     "metadata": {},
     "output_type": "execute_result"
    }
   ],
   "source": [
    "df = pd.read_csv(\"Natixis Stock.csv\", header=None, sep=r\"\\s+\", names=[\"Date\", \"Price\"])\n",
    "df.head()"
   ]
  },
  {
   "cell_type": "code",
   "execution_count": 17,
   "id": "5eb8e9d6",
   "metadata": {},
   "outputs": [],
   "source": [
    "df[\"Date\"]=pd.to_datetime(df[\"Date\"], format=\"%d/%m/%Y\", errors=\"coerce\")\n",
    "df[\"Price\"]=df[\"Price\"].str.replace(\",\",\".\").astype(float)"
   ]
  },
  {
   "cell_type": "code",
   "execution_count": 18,
   "id": "bb3b63e3",
   "metadata": {},
   "outputs": [
    {
     "name": "stdout",
     "output_type": "stream",
     "text": [
      "        Date  Price\n",
      "0 2015-01-02  5.621\n",
      "1 2015-01-05  5.424\n",
      "2 2015-01-06  5.329\n",
      "3 2015-01-07  5.224\n",
      "4 2015-01-08  5.453\n",
      "           Date  Price\n",
      "1018 2018-12-21  4.045\n",
      "1019 2018-12-24  4.010\n",
      "1020 2018-12-27  3.938\n",
      "1021 2018-12-28  4.088\n",
      "1022 2018-12-31  4.119\n",
      "                                Date        Price\n",
      "count                           1023  1023.000000\n",
      "mean   2016-12-30 10:54:32.727272704     5.684600\n",
      "min              2015-01-02 00:00:00     3.077000\n",
      "25%              2016-01-02 00:00:00     4.927000\n",
      "50%              2016-12-29 00:00:00     5.782000\n",
      "75%              2017-12-28 12:00:00     6.532000\n",
      "max              2018-12-31 00:00:00     7.744000\n",
      "std                              NaN     1.021034\n",
      "Dates: 0 → 1022\n",
      "Nb lignes: 1023 | Nb NaN price: 0\n",
      "Prix > 0 ?  True\n"
     ]
    }
   ],
   "source": [
    "print(df.head(5))\n",
    "print(df.tail(5))\n",
    "print(df.describe())\n",
    "print(\"Dates:\", df.index.min(), \"→\", df.index.max())\n",
    "print(\"Nb lignes:\", len(df), \"| Nb NaN price:\", df[\"Price\"].isna().sum())\n",
    "print(\"Prix > 0 ? \", (df[\"Price\"] > 0).all())"
   ]
  },
  {
   "cell_type": "code",
   "execution_count": 19,
   "id": "f8de7fdb",
   "metadata": {},
   "outputs": [
    {
     "name": "stdout",
     "output_type": "stream",
     "text": [
      "           Date  Price\n",
      "1018 2018-12-21  4.045\n",
      "1019 2018-12-24  4.010\n",
      "1020 2018-12-27  3.938\n",
      "1021 2018-12-28  4.088\n",
      "1022 2018-12-31  4.119\n"
     ]
    }
   ],
   "source": [
    "# la date va que jusqu'à decembre 2016\n",
    "df1 =df[(df[\"Date\"]>=\"2015-01-01\") & (df[\"Date\"]<=\"2016-12-31\")]\n",
    "df1 = df1.iloc[1:,:]\n",
    "df = df.iloc[1:,:]\n",
    "print(df.tail(5))"
   ]
  },
  {
   "cell_type": "code",
   "execution_count": 20,
   "id": "7326ee87",
   "metadata": {},
   "outputs": [],
   "source": [
    "alpha=0.05"
   ]
  },
  {
   "cell_type": "code",
   "execution_count": 21,
   "id": "455a7871",
   "metadata": {},
   "outputs": [
    {
     "name": "stdout",
     "output_type": "stream",
     "text": [
      "Empirical VaR at 95.00% : -3.788407989779058%\n"
     ]
    }
   ],
   "source": [
    "df1[\"return\"]=df1[\"Price\"].pct_change()\n",
    "df[\"return\"]=df[\"Price\"].pct_change()\n",
    "\n",
    "varEmp=df1[\"return\"].quantile(alpha)\n",
    "print(f\"Empirical VaR at {(1-alpha) *100:.2f}% : {varEmp*100}%\") #il faut que ce soit négatif"
   ]
  },
  {
   "cell_type": "code",
   "execution_count": 22,
   "id": "36498368",
   "metadata": {},
   "outputs": [
    {
     "name": "stdout",
     "output_type": "stream",
     "text": [
      "Parametric VaR (95.00%): -3.898272%\n"
     ]
    }
   ],
   "source": [
    "mu = df1['return'].mean()\n",
    "sigma = df1['return'].std()\n",
    "z = norm.ppf(alpha)\n",
    "varParam = (mu + sigma * z)# Generate 100'000 standard normal random values\n",
    "print(f\"Parametric VaR ({(1 - alpha) * 100:.2f}%): {varParam*100:.6f}%\")"
   ]
  },
  {
   "cell_type": "code",
   "execution_count": 23,
   "id": "c5bc4cc2",
   "metadata": {},
   "outputs": [
    {
     "name": "stdout",
     "output_type": "stream",
     "text": [
      "In-sample exceedances  = 5.09%\n",
      "Out-of-sample exceed. = nan%\n"
     ]
    }
   ],
   "source": [
    "insample   = df1[(df1[\"Date\"] <= \"2016-12-31\")][\"return\"].dropna()\n",
    "outsample  = df[(df[\"Date\"] >= \"2017-01-01\") & (df1[\"Date\"] <= \"2018-12-31\")][\"return\"].dropna()\n",
    "\n",
    "var_hist = -np.nanpercentile(insample, alpha*100)\n",
    "\n",
    "exc_in  = np.mean(insample < -var_hist)\n",
    "exc_out = np.mean(outsample < -var_hist)\n",
    "\n",
    "print(f\"In-sample exceedances  = {exc_in*100:.2f}%\")\n",
    "print(f\"Out-of-sample exceed. = {exc_out*100:.2f}%\")#problème ici car comme on prend à l'origine 2015 --> 2016 et que mtn on veux prendre le reste, on a déjà nettoyer les données"
   ]
  },
  {
   "cell_type": "code",
   "execution_count": 24,
   "id": "cc6111f0",
   "metadata": {},
   "outputs": [],
   "source": [
    "#var paramétrique --> peut avoir des erreurs de paramètres\n",
    "#on utilise donc la var non param pour eviter ces erreurs de paramètre "
   ]
  },
  {
   "cell_type": "code",
   "execution_count": 25,
   "id": "c8e81d09",
   "metadata": {},
   "outputs": [
    {
     "name": "stdout",
     "output_type": "stream",
     "text": [
      "Empirical VaR at 95.00% : -2.4483182167546773%\n"
     ]
    }
   ],
   "source": [
    "#calcul de la VaR avec moins de points sur deux mois uniquement\n",
    "#  Question 3\n",
    "df2 =df[(df[\"Date\"]>=\"2016-10-01\") & (df[\"Date\"]<=\"2016-12-31\")]\n",
    "varEmp=df2[\"return\"].quantile(alpha)\n",
    "print(f\"Empirical VaR at {(1-alpha) *100:.2f}% : {varEmp*100}%\") #il faut que ce soit négatif"
   ]
  },
  {
   "cell_type": "code",
   "execution_count": null,
   "id": "8776d46b",
   "metadata": {},
   "outputs": [
    {
     "name": "stdout",
     "output_type": "stream",
     "text": [
      "Parametric VaR (95.00%): -2.342231%\n"
     ]
    }
   ],
   "source": [
    "mu = df2['return'].mean()   \n",
    "sigma = df2['return'].std()\n",
    "z = norm.ppf(alpha)\n",
    "varParam = (mu + sigma * z)# Generate 100'000 standard normal random values\n",
    "print(f\"Parametric VaR ({(1 - alpha) * 100:.2f}%): {varParam*100:.6f}%\")"
   ]
  },
  {
   "cell_type": "markdown",
   "id": "5974e529",
   "metadata": {},
   "source": [
    "# TD2\n"
   ]
  },
  {
   "cell_type": "code",
   "execution_count": 36,
   "id": "68e08ea1",
   "metadata": {},
   "outputs": [
    {
     "data": {
      "text/html": [
       "<div>\n",
       "<style scoped>\n",
       "    .dataframe tbody tr th:only-of-type {\n",
       "        vertical-align: middle;\n",
       "    }\n",
       "\n",
       "    .dataframe tbody tr th {\n",
       "        vertical-align: top;\n",
       "    }\n",
       "\n",
       "    .dataframe thead th {\n",
       "        text-align: right;\n",
       "    }\n",
       "</style>\n",
       "<table border=\"1\" class=\"dataframe\">\n",
       "  <thead>\n",
       "    <tr style=\"text-align: right;\">\n",
       "      <th></th>\n",
       "      <th>Date</th>\n",
       "      <th>Price</th>\n",
       "      <th>return</th>\n",
       "    </tr>\n",
       "  </thead>\n",
       "  <tbody>\n",
       "    <tr>\n",
       "      <th>0</th>\n",
       "      <td>2015-01-06</td>\n",
       "      <td>5.329</td>\n",
       "      <td>-0.017515</td>\n",
       "    </tr>\n",
       "    <tr>\n",
       "      <th>1</th>\n",
       "      <td>2015-01-07</td>\n",
       "      <td>5.224</td>\n",
       "      <td>-0.019704</td>\n",
       "    </tr>\n",
       "    <tr>\n",
       "      <th>2</th>\n",
       "      <td>2015-01-08</td>\n",
       "      <td>5.453</td>\n",
       "      <td>0.043836</td>\n",
       "    </tr>\n",
       "    <tr>\n",
       "      <th>3</th>\n",
       "      <td>2015-01-09</td>\n",
       "      <td>5.340</td>\n",
       "      <td>-0.020723</td>\n",
       "    </tr>\n",
       "    <tr>\n",
       "      <th>4</th>\n",
       "      <td>2015-01-12</td>\n",
       "      <td>5.264</td>\n",
       "      <td>-0.014232</td>\n",
       "    </tr>\n",
       "  </tbody>\n",
       "</table>\n",
       "</div>"
      ],
      "text/plain": [
       "        Date  Price    return\n",
       "0 2015-01-06  5.329 -0.017515\n",
       "1 2015-01-07  5.224 -0.019704\n",
       "2 2015-01-08  5.453  0.043836\n",
       "3 2015-01-09  5.340 -0.020723\n",
       "4 2015-01-12  5.264 -0.014232"
      ]
     },
     "execution_count": 36,
     "metadata": {},
     "output_type": "execute_result"
    }
   ],
   "source": [
    "df = df.dropna(subset=['return']).reset_index(drop=True)\n",
    "df.head()"
   ]
  },
  {
   "cell_type": "code",
   "execution_count": null,
   "id": "ace56b71",
   "metadata": {},
   "outputs": [
    {
     "name": "stdout",
     "output_type": "stream",
     "text": [
      "Date de calcul T: 2018-12-31\n",
      "Dernier prix de l'action Natixis S_T: 4.1190\n",
      "--------------------------------------------------\n",
      "Volatilité quotidienne EWMA (sigma_daily): 0.024930\n",
      "Volatilité annualisée (sigma_ann): 0.395759\n",
      "--------------------------------------------------\n",
      "Paramètres du Call: Strike K=4.1190, Maturité T=0.0833 années\n",
      "Prix initial du Call C_T: 0.187631\n",
      "--------------------------------------------------\n",
      "Nombre de simulations Monte-Carlo (N): 10000\n",
      "VaR 99% sur la variation arithmétique du prix du Call (horizon 1 jour): 0.098178\n",
      "CVaR 99% (Expected Shortfall): 0.109103\n"
     ]
    }
   ],
   "source": [
    "S_T = df['Price'].iloc[-1]\n",
    "T_last = df['Date'].iloc[-1]\n",
    "\n",
    "print(f\"Date de calcul T: {T_last.strftime('%Y-%m-%d')}\")\n",
    "print(f\"Dernier prix de l'action Natixis S_T: {S_T:.4f}\")\n",
    "print(\"-\" * 50)\n",
    "\n",
    "lambda_ewma = 0.94\n",
    "returns = df['return'].values\n",
    "T_data = len(returns)\n",
    "\n",
    "ewma_variance = np.zeros(T_data)\n",
    "ewma_variance[0] = returns[0]**2 # Initialisation de la variance avec le carré du premier rendement\n",
    "\n",
    "for t in range(1, T_data):\n",
    "    ewma_variance[t] = (1 - lambda_ewma) * returns[t-1]**2 + lambda_ewma * ewma_variance[t-1]\n",
    "\n",
    "# Volatilité quotidienne et annualisée\n",
    "sigma_daily = np.sqrt(ewma_variance[-1])\n",
    "mu_daily = 0.0 # Drift négligé pour un horizon d'un jour\n",
    "\n",
    "# Annualisation pour Black-Scholes (252 jours de trading)\n",
    "sigma_ann = sigma_daily * np.sqrt(252)\n",
    "\n",
    "print(f\"Volatilité quotidienne EWMA (sigma_daily): {sigma_daily:.6f}\")\n",
    "print(f\"Volatilité annualisée (sigma_ann): {sigma_ann:.6f}\")\n",
    "print(\"-\" * 50)\n",
    "\n",
    "\n",
    "def black_scholes_call(S, K, T, r, q, sigma):\n",
    "    # Si volatilité est nulle\n",
    "    if np.any(sigma <= 1e-6) or np.any(T <= 1e-6):\n",
    "        return np.maximum(S - K, 0)\n",
    "\n",
    "    S, K, T, r, q, sigma = map(np.asanyarray, (S, K, T, r, q, sigma))\n",
    "    d1 = (np.log(S / K) + (r - q + sigma**2 / 2) * T) / (sigma * np.sqrt(T))\n",
    "    d2 = d1 - sigma * np.sqrt(T)\n",
    "    call_price = S * np.exp(-q * T) * norm.cdf(d1) - K * np.exp(-r * T) * norm.cdf(d2)\n",
    "    return call_price\n",
    "\n",
    "# Paramètres de l'option (Call at the money, Maturité 1 mois, r=0, q=0)\n",
    "K = S_T         \n",
    "T_mat = 1/12   \n",
    "r = 0.0         \n",
    "q = 0.0       \n",
    "sigma_BS = sigma_ann\n",
    "\n",
    "# Prix initial du Call\n",
    "C_T = black_scholes_call(S_T, K, T_mat, r, q, sigma_BS)\n",
    "\n",
    "print(f\"Paramètres du Call: Strike K={K:.4f}, Maturité T={T_mat:.4f} années\")\n",
    "print(f\"Prix initial du Call: {C_T:.6f}\")\n",
    "print(\"-\" * 50)\n",
    "\n",
    "\n",
    "N_simulations = 10000 \n",
    "np.random.seed(42)\n",
    "\n",
    "Z = np.random.normal(0, 1, N_simulations)\n",
    "\n",
    "# Simulation des rendements logarithmiques (lr_T+1)\n",
    "lr_T_plus_1 = mu_daily + sigma_daily * Z\n",
    "\n",
    "# Simulation des prix de l'action au jour T+1 (S_T+1)\n",
    "S_T_plus_1 = S_T * np.exp(lr_T_plus_1)\n",
    "\n",
    "# Calcul des prix simulés du Call (C_T+1)\n",
    "C_T_plus_1 = black_scholes_call(S_T_plus_1, K, T_mat, r, q, sigma_BS)\n",
    "\n",
    "# Calcul de la variation arithmétique du prix du Call (Delta C)\n",
    "delta_C = C_T_plus_1 - C_T\n",
    "\n",
    "# --- 5. Calcul de la VaR 99% ---\n",
    "alpha = 0.01 # Pour une VaR à 99%\n",
    "\n",
    "# La VaR (mesure de perte) est l'opposé du quantile alpha des variations (Profit/Perte)\n",
    "VaR_99 = -np.quantile(delta_C, alpha)\n",
    "\n",
    "print(f\"Nombre de simulations Monte-Carlo (N): {N_simulations}\")\n",
    "print(f\"VaR 99% sur la variation arithmétique du prix du Call (horizon 1 jour): {VaR_99:.6f}\")\n",
    "\n",
    "# (Bonus: Calcul de la CVaR 99% / Expected Shortfall)\n",
    "CVaR_99 = -np.mean(delta_C[delta_C < -VaR_99])\n",
    "print(f\"CVaR 99% (Expected Shortfall): {CVaR_99:.6f}\")"
   ]
  },
  {
   "cell_type": "code",
   "execution_count": null,
   "id": "22a954df",
   "metadata": {},
   "outputs": [],
   "source": []
  }
 ],
 "metadata": {
  "kernelspec": {
   "display_name": "Python 3",
   "language": "python",
   "name": "python3"
  },
  "language_info": {
   "codemirror_mode": {
    "name": "ipython",
    "version": 3
   },
   "file_extension": ".py",
   "mimetype": "text/x-python",
   "name": "python",
   "nbconvert_exporter": "python",
   "pygments_lexer": "ipython3",
   "version": "3.14.0"
  }
 },
 "nbformat": 4,
 "nbformat_minor": 5
}
