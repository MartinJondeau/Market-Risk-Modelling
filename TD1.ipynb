{
 "cells": [
  {
   "cell_type": "code",
   "execution_count": 15,
   "id": "056ac78a",
   "metadata": {},
   "outputs": [],
   "source": [
    "import pandas as pd\n",
    "import numpy as np\n",
    "from scipy.stats import norm, gaussian_kde\n"
   ]
  },
  {
   "cell_type": "code",
   "execution_count": 16,
   "id": "a519b482",
   "metadata": {},
   "outputs": [
    {
     "data": {
      "text/html": [
       "<div>\n",
       "<style scoped>\n",
       "    .dataframe tbody tr th:only-of-type {\n",
       "        vertical-align: middle;\n",
       "    }\n",
       "\n",
       "    .dataframe tbody tr th {\n",
       "        vertical-align: top;\n",
       "    }\n",
       "\n",
       "    .dataframe thead th {\n",
       "        text-align: right;\n",
       "    }\n",
       "</style>\n",
       "<table border=\"1\" class=\"dataframe\">\n",
       "  <thead>\n",
       "    <tr style=\"text-align: right;\">\n",
       "      <th></th>\n",
       "      <th>Date</th>\n",
       "      <th>Price</th>\n",
       "    </tr>\n",
       "  </thead>\n",
       "  <tbody>\n",
       "    <tr>\n",
       "      <th>0</th>\n",
       "      <td>02/01/2015</td>\n",
       "      <td>5,621</td>\n",
       "    </tr>\n",
       "    <tr>\n",
       "      <th>1</th>\n",
       "      <td>05/01/2015</td>\n",
       "      <td>5,424</td>\n",
       "    </tr>\n",
       "    <tr>\n",
       "      <th>2</th>\n",
       "      <td>06/01/2015</td>\n",
       "      <td>5,329</td>\n",
       "    </tr>\n",
       "    <tr>\n",
       "      <th>3</th>\n",
       "      <td>07/01/2015</td>\n",
       "      <td>5,224</td>\n",
       "    </tr>\n",
       "    <tr>\n",
       "      <th>4</th>\n",
       "      <td>08/01/2015</td>\n",
       "      <td>5,453</td>\n",
       "    </tr>\n",
       "  </tbody>\n",
       "</table>\n",
       "</div>"
      ],
      "text/plain": [
       "         Date  Price\n",
       "0  02/01/2015  5,621\n",
       "1  05/01/2015  5,424\n",
       "2  06/01/2015  5,329\n",
       "3  07/01/2015  5,224\n",
       "4  08/01/2015  5,453"
      ]
     },
     "execution_count": 16,
     "metadata": {},
     "output_type": "execute_result"
    }
   ],
   "source": [
    "df = pd.read_csv(\"Natixis Stock.csv\", header=None, sep=r\"\\s+\", names=[\"Date\", \"Price\"])\n",
    "df.head()"
   ]
  },
  {
   "cell_type": "code",
   "execution_count": 17,
   "id": "5eb8e9d6",
   "metadata": {},
   "outputs": [],
   "source": [
    "df[\"Date\"]=pd.to_datetime(df[\"Date\"], format=\"%d/%m/%Y\", errors=\"coerce\")\n",
    "df[\"Price\"]=df[\"Price\"].str.replace(\",\",\".\").astype(float)"
   ]
  },
  {
   "cell_type": "code",
   "execution_count": 18,
   "id": "bb3b63e3",
   "metadata": {},
   "outputs": [
    {
     "name": "stdout",
     "output_type": "stream",
     "text": [
      "        Date  Price\n",
      "0 2015-01-02  5.621\n",
      "1 2015-01-05  5.424\n",
      "2 2015-01-06  5.329\n",
      "3 2015-01-07  5.224\n",
      "4 2015-01-08  5.453\n",
      "           Date  Price\n",
      "1018 2018-12-21  4.045\n",
      "1019 2018-12-24  4.010\n",
      "1020 2018-12-27  3.938\n",
      "1021 2018-12-28  4.088\n",
      "1022 2018-12-31  4.119\n",
      "                                Date        Price\n",
      "count                           1023  1023.000000\n",
      "mean   2016-12-30 10:54:32.727272704     5.684600\n",
      "min              2015-01-02 00:00:00     3.077000\n",
      "25%              2016-01-02 00:00:00     4.927000\n",
      "50%              2016-12-29 00:00:00     5.782000\n",
      "75%              2017-12-28 12:00:00     6.532000\n",
      "max              2018-12-31 00:00:00     7.744000\n",
      "std                              NaN     1.021034\n",
      "Dates: 0 → 1022\n",
      "Nb lignes: 1023 | Nb NaN price: 0\n",
      "Prix > 0 ?  True\n"
     ]
    }
   ],
   "source": [
    "print(df.head(5))\n",
    "print(df.tail(5))\n",
    "print(df.describe())\n",
    "print(\"Dates:\", df.index.min(), \"→\", df.index.max())\n",
    "print(\"Nb lignes:\", len(df), \"| Nb NaN price:\", df[\"Price\"].isna().sum())\n",
    "print(\"Prix > 0 ? \", (df[\"Price\"] > 0).all())"
   ]
  },
  {
   "cell_type": "code",
   "execution_count": 19,
   "id": "f8de7fdb",
   "metadata": {},
   "outputs": [
    {
     "name": "stdout",
     "output_type": "stream",
     "text": [
      "           Date  Price\n",
      "1018 2018-12-21  4.045\n",
      "1019 2018-12-24  4.010\n",
      "1020 2018-12-27  3.938\n",
      "1021 2018-12-28  4.088\n",
      "1022 2018-12-31  4.119\n"
     ]
    }
   ],
   "source": [
    "# la date va que jusqu'à decembre 2016\n",
    "df1 =df[(df[\"Date\"]>=\"2015-01-01\") & (df[\"Date\"]<=\"2016-12-31\")]\n",
    "df1 = df1.iloc[1:,:]\n",
    "df = df.iloc[1:,:]\n",
    "print(df.tail(5))"
   ]
  },
  {
   "cell_type": "code",
   "execution_count": 20,
   "id": "7326ee87",
   "metadata": {},
   "outputs": [],
   "source": [
    "alpha=0.05"
   ]
  },
  {
   "cell_type": "code",
   "execution_count": 21,
   "id": "455a7871",
   "metadata": {},
   "outputs": [
    {
     "name": "stdout",
     "output_type": "stream",
     "text": [
      "Empirical VaR at 95.00% : -3.788407989779058%\n"
     ]
    }
   ],
   "source": [
    "df1[\"return\"]=df1[\"Price\"].pct_change()\n",
    "df[\"return\"]=df[\"Price\"].pct_change()\n",
    "\n",
    "varEmp=df1[\"return\"].quantile(alpha)\n",
    "print(f\"Empirical VaR at {(1-alpha) *100:.2f}% : {varEmp*100}%\") #il faut que ce soit négatif"
   ]
  },
  {
   "cell_type": "code",
   "execution_count": 22,
   "id": "36498368",
   "metadata": {},
   "outputs": [
    {
     "name": "stdout",
     "output_type": "stream",
     "text": [
      "Parametric VaR (95.00%): -3.898272%\n"
     ]
    }
   ],
   "source": [
    "mu = df1['return'].mean()\n",
    "sigma = df1['return'].std()\n",
    "z = norm.ppf(alpha)\n",
    "varParam = (mu + sigma * z)# Generate 100'000 standard normal random values\n",
    "print(f\"Parametric VaR ({(1 - alpha) * 100:.2f}%): {varParam*100:.6f}%\")"
   ]
  },
  {
   "cell_type": "code",
   "execution_count": 23,
   "id": "c5bc4cc2",
   "metadata": {},
   "outputs": [
    {
     "name": "stdout",
     "output_type": "stream",
     "text": [
      "In-sample exceedances  = 5.09%\n",
      "Out-of-sample exceed. = nan%\n"
     ]
    }
   ],
   "source": [
    "insample   = df1[(df1[\"Date\"] <= \"2016-12-31\")][\"return\"].dropna()\n",
    "outsample  = df[(df[\"Date\"] >= \"2017-01-01\") & (df1[\"Date\"] <= \"2018-12-31\")][\"return\"].dropna()\n",
    "\n",
    "var_hist = -np.nanpercentile(insample, alpha*100)\n",
    "\n",
    "exc_in  = np.mean(insample < -var_hist)\n",
    "exc_out = np.mean(outsample < -var_hist)\n",
    "\n",
    "print(f\"In-sample exceedances  = {exc_in*100:.2f}%\")\n",
    "print(f\"Out-of-sample exceed. = {exc_out*100:.2f}%\")#problème ici car comme on prend à l'origine 2015 --> 2016 et que mtn on veux prendre le reste, on a déjà nettoyer les données"
   ]
  },
  {
   "cell_type": "code",
   "execution_count": 24,
   "id": "cc6111f0",
   "metadata": {},
   "outputs": [],
   "source": [
    "#var paramétrique --> peut avoir des erreurs de paramètres\n",
    "#on utilise donc la var non param pour eviter ces erreurs de paramètre "
   ]
  },
  {
   "cell_type": "code",
   "execution_count": 25,
   "id": "c8e81d09",
   "metadata": {},
   "outputs": [
    {
     "name": "stdout",
     "output_type": "stream",
     "text": [
      "Empirical VaR at 95.00% : -2.4483182167546773%\n"
     ]
    }
   ],
   "source": [
    "#calcul de la VaR avec moins de points sur deux mois uniquement\n",
    "#  Question 3\n",
    "df2 =df[(df[\"Date\"]>=\"2016-10-01\") & (df[\"Date\"]<=\"2016-12-31\")]\n",
    "varEmp=df2[\"return\"].quantile(alpha)\n",
    "print(f\"Empirical VaR at {(1-alpha) *100:.2f}% : {varEmp*100}%\") #il faut que ce soit négatif"
   ]
  },
  {
   "cell_type": "code",
   "execution_count": 26,
   "id": "8776d46b",
   "metadata": {},
   "outputs": [
    {
     "name": "stdout",
     "output_type": "stream",
     "text": [
      "Parametric VaR (95.00%): -2.342231%\n"
     ]
    }
   ],
   "source": [
    "mu = df2['return'].mean()\n",
    "sigma = df2['return'].std()\n",
    "z = norm.ppf(alpha)\n",
    "varParam = (mu + sigma * z)# Generate 100'000 standard normal random values\n",
    "print(f\"Parametric VaR ({(1 - alpha) * 100:.2f}%): {varParam*100:.6f}%\")"
   ]
  },
  {
   "cell_type": "markdown",
   "id": "5974e529",
   "metadata": {},
   "source": [
    "# TD2\n"
   ]
  },
  {
   "cell_type": "code",
   "execution_count": 27,
   "id": "68e08ea1",
   "metadata": {},
   "outputs": [
    {
     "data": {
      "text/html": [
       "<div>\n",
       "<style scoped>\n",
       "    .dataframe tbody tr th:only-of-type {\n",
       "        vertical-align: middle;\n",
       "    }\n",
       "\n",
       "    .dataframe tbody tr th {\n",
       "        vertical-align: top;\n",
       "    }\n",
       "\n",
       "    .dataframe thead th {\n",
       "        text-align: right;\n",
       "    }\n",
       "</style>\n",
       "<table border=\"1\" class=\"dataframe\">\n",
       "  <thead>\n",
       "    <tr style=\"text-align: right;\">\n",
       "      <th></th>\n",
       "      <th>Date</th>\n",
       "      <th>Price</th>\n",
       "      <th>return</th>\n",
       "    </tr>\n",
       "  </thead>\n",
       "  <tbody>\n",
       "    <tr>\n",
       "      <th>1</th>\n",
       "      <td>2015-01-05</td>\n",
       "      <td>5.424</td>\n",
       "      <td>NaN</td>\n",
       "    </tr>\n",
       "    <tr>\n",
       "      <th>2</th>\n",
       "      <td>2015-01-06</td>\n",
       "      <td>5.329</td>\n",
       "      <td>-0.017515</td>\n",
       "    </tr>\n",
       "    <tr>\n",
       "      <th>3</th>\n",
       "      <td>2015-01-07</td>\n",
       "      <td>5.224</td>\n",
       "      <td>-0.019704</td>\n",
       "    </tr>\n",
       "    <tr>\n",
       "      <th>4</th>\n",
       "      <td>2015-01-08</td>\n",
       "      <td>5.453</td>\n",
       "      <td>0.043836</td>\n",
       "    </tr>\n",
       "    <tr>\n",
       "      <th>5</th>\n",
       "      <td>2015-01-09</td>\n",
       "      <td>5.340</td>\n",
       "      <td>-0.020723</td>\n",
       "    </tr>\n",
       "  </tbody>\n",
       "</table>\n",
       "</div>"
      ],
      "text/plain": [
       "        Date  Price    return\n",
       "1 2015-01-05  5.424       NaN\n",
       "2 2015-01-06  5.329 -0.017515\n",
       "3 2015-01-07  5.224 -0.019704\n",
       "4 2015-01-08  5.453  0.043836\n",
       "5 2015-01-09  5.340 -0.020723"
      ]
     },
     "execution_count": 27,
     "metadata": {},
     "output_type": "execute_result"
    }
   ],
   "source": [
    "df.head()"
   ]
  },
  {
   "cell_type": "code",
   "execution_count": null,
   "id": "6ae4b12a",
   "metadata": {},
   "outputs": [],
   "source": []
  },
  {
   "cell_type": "code",
   "execution_count": null,
   "id": "90c625ed",
   "metadata": {},
   "outputs": [],
   "source": [
    "stock = df[df[\"Prce\"] == \"2018-12-31\"]\n",
    "print(stock)"
   ]
  }
 ],
 "metadata": {
  "kernelspec": {
   "display_name": "Python 3",
   "language": "python",
   "name": "python3"
  },
  "language_info": {
   "codemirror_mode": {
    "name": "ipython",
    "version": 3
   },
   "file_extension": ".py",
   "mimetype": "text/x-python",
   "name": "python",
   "nbconvert_exporter": "python",
   "pygments_lexer": "ipython3",
   "version": "3.14.0"
  }
 },
 "nbformat": 4,
 "nbformat_minor": 5
}
